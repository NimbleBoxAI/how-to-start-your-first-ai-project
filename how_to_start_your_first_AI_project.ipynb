{
 "cells": [
  {
   "cell_type": "markdown",
   "metadata": {},
   "source": [
    "# How to start your first AI project"
   ]
  },
  {
   "cell_type": "markdown",
   "metadata": {},
   "source": [
    "By Saurabh Ghanekar for Nimblebox Inc."
   ]
  },
  {
   "cell_type": "markdown",
   "metadata": {},
   "source": [
    "## Data Exploration and Training Model"
   ]
  },
  {
   "cell_type": "markdown",
   "metadata": {},
   "source": [
    "### Fashion MNIST Dataset"
   ]
  },
  {
   "cell_type": "markdown",
   "metadata": {},
   "source": [
    "Fashion MNIST Dataset is a data with 70,000 images and contains 10 classes of clothing with a dimension of 28 by 28 grayscale image color. Here's an example how the data looks (_each class takes three-rows_):"
   ]
  },
  {
   "cell_type": "markdown",
   "metadata": {},
   "source": [
    "![Fashion MNIST Dataset](https://github.com/zalandoresearch/fashion-mnist/raw/master/doc/img/fashion-mnist-sprite.png)"
   ]
  },
  {
   "cell_type": "markdown",
   "metadata": {},
   "source": [
    "### Loading our Dataset"
   ]
  },
  {
   "cell_type": "code",
   "execution_count": 1,
   "metadata": {},
   "outputs": [
    {
     "name": "stdout",
     "output_type": "stream",
     "text": [
      "Tensorflow version =  2.1.0\n",
      "x_train shape: (60000, 28, 28) | y_train shape: (60000,)\n"
     ]
    }
   ],
   "source": [
    "import tensorflow as tf\n",
    "import numpy as np\n",
    "import matplotlib.pyplot as plt\n",
    "\n",
    "# Check tensorflow version\n",
    "print(\"Tensorflow version = \", tf.__version__)\n",
    "\n",
    "# Load the fashion-mnist pre-shuffled train data and test data\n",
    "(x_train, y_train), (x_test, y_test) = tf.keras.datasets.fashion_mnist.load_data()\n",
    "\n",
    "print(\"x_train shape:\", x_train.shape, \"|\", \"y_train shape:\", y_train.shape)"
   ]
  },
  {
   "cell_type": "markdown",
   "metadata": {},
   "source": [
    "### Data Visualization"
   ]
  },
  {
   "cell_type": "code",
   "execution_count": 2,
   "metadata": {},
   "outputs": [
    {
     "name": "stdout",
     "output_type": "stream",
     "text": [
      "1685\n",
      "y = 9 - Ankle boot\n"
     ]
    },
    {
     "data": {
      "text/plain": [
       "<matplotlib.image.AxesImage at 0x7f2b9b478b50>"
      ]
     },
     "execution_count": 2,
     "metadata": {},
     "output_type": "execute_result"
    },
    {
     "data": {
      "image/png": "[encoded data removed]",
      "text/plain": [
       "<Figure size 432x288 with 1 Axes>"
      ]
     },
     "metadata": {
      "needs_background": "light"
     },
     "output_type": "display_data"
    }
   ],
   "source": [
    "# Define the text labels\n",
    "fashion_mnist_labels = [\"T-shirt/top\",  # index 0\n",
    "                        \"Trouser\",      # index 1\n",
    "                        \"Pullover\",     # index 2 \n",
    "                        \"Dress\",        # index 3 \n",
    "                        \"Coat\",         # index 4\n",
    "                        \"Sandal\",       # index 5\n",
    "                        \"Shirt\",        # index 6 \n",
    "                        \"Sneaker\",      # index 7 \n",
    "                        \"Bag\",          # index 8 \n",
    "                        \"Ankle boot\"]   # index 9\n",
    "\n",
    "# Image index, you can pick any number between 0 and 59,999\n",
    "img_index = int(np.random.randint(0, 59999, 1))\n",
    "\n",
    "print(int(img_index))\n",
    "\n",
    "# y_train contains the lables, ranging from 0 to 9\n",
    "label_index = y_train[img_index]\n",
    "\n",
    "# Print the label, for example 2 Pullover\n",
    "print (\"y = \" + str(label_index) + \" - \" +(fashion_mnist_labels[label_index]))\n",
    "\n",
    "# Show one of the images from the training dataset\n",
    "plt.imshow(x_train[img_index])"
   ]
  },
  {
   "cell_type": "markdown",
   "metadata": {},
   "source": [
    "### Data Normalization"
   ]
  },
  {
   "cell_type": "code",
   "execution_count": 3,
   "metadata": {},
   "outputs": [],
   "source": [
    "x_train = x_train.astype('float32') / 255\n",
    "x_test = x_test.astype('float32') / 255"
   ]
  },
  {
   "cell_type": "markdown",
   "metadata": {},
   "source": [
    "### Split the data into train/validation/test data sets and One-hot encoding the labels"
   ]
  },
  {
   "cell_type": "code",
   "execution_count": 4,
   "metadata": {},
   "outputs": [
    {
     "name": "stdout",
     "output_type": "stream",
     "text": [
      "x_train shape: (55000, 28, 28, 1) | y_train shape: (55000, 10)\n",
      "x_valid shape: (5000, 28, 28, 1) | y_valid shape: (5000, 10)\n",
      "x_test shape: (10000, 28, 28, 1) | y_test shape: (10000, 10)\n"
     ]
    }
   ],
   "source": [
    "# Further break training data into train / validation sets (# put 5000 into validation set and keep remaining 55,000 for train)\n",
    "(x_train, x_valid) = x_train[5000:], x_train[:5000] \n",
    "(y_train, y_valid) = y_train[5000:], y_train[:5000]\n",
    "\n",
    "# Reshape input data from (28, 28) to (28, 28, 1)\n",
    "w, h = 28, 28\n",
    "x_train = x_train.reshape(x_train.shape[0], w, h, 1)\n",
    "x_valid = x_valid.reshape(x_valid.shape[0], w, h, 1)\n",
    "x_test = x_test.reshape(x_test.shape[0], w, h, 1)\n",
    "\n",
    "# One-hot encode the labels\n",
    "y_train = tf.keras.utils.to_categorical(y_train, 10)\n",
    "y_valid = tf.keras.utils.to_categorical(y_valid, 10)\n",
    "y_test = tf.keras.utils.to_categorical(y_test, 10)\n",
    "\n",
    "# Print the shape of training, validation, and test datasets\n",
    "print(\"x_train shape:\", x_train.shape, \"|\", \"y_train shape:\", y_train.shape)\n",
    "print(\"x_valid shape:\", x_valid.shape, \"|\", \"y_valid shape:\", y_valid.shape)\n",
    "print(\"x_test shape:\", x_test.shape, \"|\", \"y_test shape:\", y_test.shape)"
   ]
  },
  {
   "cell_type": "markdown",
   "metadata": {},
   "source": [
    "### Create Model Architecture"
   ]
  },
  {
   "cell_type": "code",
   "execution_count": 5,
   "metadata": {},
   "outputs": [
    {
     "name": "stdout",
     "output_type": "stream",
     "text": [
      "Model: \"model\"\n",
      "_________________________________________________________________\n",
      "Layer (type)                 Output Shape              Param #   \n",
      "=================================================================\n",
      "input_1 (InputLayer)         [(None, 28, 28, 1)]       0         \n",
      "_________________________________________________________________\n",
      "conv2d (Conv2D)              (None, 28, 28, 128)       640       \n",
      "_________________________________________________________________\n",
      "max_pooling2d (MaxPooling2D) (None, 14, 14, 128)       0         \n",
      "_________________________________________________________________\n",
      "dropout (Dropout)            (None, 14, 14, 128)       0         \n",
      "_________________________________________________________________\n",
      "conv2d_1 (Conv2D)            (None, 14, 14, 64)        32832     \n",
      "_________________________________________________________________\n",
      "max_pooling2d_1 (MaxPooling2 (None, 7, 7, 64)          0         \n",
      "_________________________________________________________________\n",
      "dropout_1 (Dropout)          (None, 7, 7, 64)          0         \n",
      "_________________________________________________________________\n",
      "conv2d_2 (Conv2D)            (None, 7, 7, 32)          8224      \n",
      "_________________________________________________________________\n",
      "max_pooling2d_2 (MaxPooling2 (None, 3, 3, 32)          0         \n",
      "_________________________________________________________________\n",
      "dropout_2 (Dropout)          (None, 3, 3, 32)          0         \n",
      "_________________________________________________________________\n",
      "flatten (Flatten)            (None, 288)               0         \n",
      "_________________________________________________________________\n",
      "dense (Dense)                (None, 256)               73984     \n",
      "_________________________________________________________________\n",
      "dropout_3 (Dropout)          (None, 256)               0         \n",
      "_________________________________________________________________\n",
      "dense_1 (Dense)              (None, 10)                2570      \n",
      "=================================================================\n",
      "Total params: 118,250\n",
      "Trainable params: 118,250\n",
      "Non-trainable params: 0\n",
      "_________________________________________________________________\n",
      "None\n"
     ]
    },
    {
     "data": {
      "image/png": "[encoded data removed]",
      "text/plain": [
       "<IPython.core.display.Image object>"
      ]
     },
     "execution_count": 5,
     "metadata": {},
     "output_type": "execute_result"
    }
   ],
   "source": [
    "from tensorflow.keras.layers import Conv2D, MaxPooling2D, Dropout, Dense, Flatten\n",
    "from tensorflow.keras import Input\n",
    "from tensorflow.keras.models import Model\n",
    "\n",
    "inputs = Input(shape=(28, 28, 1))\n",
    "\n",
    "layer_1 = Conv2D(filters=128, kernel_size=2, padding='same', activation='relu')(inputs)\n",
    "layer_1 = MaxPooling2D(pool_size=2)(layer_1)\n",
    "layer_1 = Dropout(0.3)(layer_1)\n",
    "\n",
    "layer_2 = Conv2D(filters=64, kernel_size=2, padding='same', activation='relu')(layer_1)\n",
    "layer_2 = MaxPooling2D(pool_size=2)(layer_2)\n",
    "layer_2 = Dropout(0.3)(layer_2)\n",
    "\n",
    "layer_3 = Conv2D(filters=32, kernel_size=2, padding='same', activation='relu')(layer_2)\n",
    "layer_3 = MaxPooling2D(pool_size=2)(layer_3)\n",
    "layer_3 = Dropout(0.3)(layer_3)\n",
    "\n",
    "final_layer = Flatten()(layer_3)\n",
    "final_layer = Dense(256, activation='relu')(final_layer)\n",
    "final_layer = Dropout(0.5)(final_layer)\n",
    "final_layer = Dense(10, activation='softmax')(final_layer)\n",
    "\n",
    "model = Model(inputs=inputs, outputs=final_layer)\n",
    "\n",
    "# summarize layers\n",
    "print(model.summary())\n",
    "\n",
    "# plot graph\n",
    "tf.keras.utils.plot_model(model, to_file='helper_images/fashion_mnist_cnn.png')"
   ]
  },
  {
   "cell_type": "markdown",
   "metadata": {},
   "source": [
    "### Compile and Train our Model"
   ]
  },
  {
   "cell_type": "code",
   "execution_count": 7,
   "metadata": {},
   "outputs": [],
   "source": [
    "model.compile(loss='categorical_crossentropy', optimizer='adam', metrics=['accuracy'])"
   ]
  },
  {
   "cell_type": "code",
   "execution_count": 8,
   "metadata": {},
   "outputs": [
    {
     "name": "stdout",
     "output_type": "stream",
     "text": [
      "Train on 55000 samples, validate on 5000 samples\n",
      "Epoch 1/30\n",
      "54976/55000 [============================>.] - ETA: 0s - loss: 0.8050 - accuracy: 0.6968\n",
      "Epoch 00001: val_loss improved from inf to 0.44718, saving model to models/model_weights_best.hdf5\n",
      "55000/55000 [==============================] - 84s 2ms/sample - loss: 0.8053 - accuracy: 0.6967 - val_loss: 0.4472 - val_accuracy: 0.8432\n",
      "Epoch 2/30\n",
      "54976/55000 [============================>.] - ETA: 0s - loss: 0.5190 - accuracy: 0.8094\n",
      "Epoch 00002: val_loss improved from 0.44718 to 0.36281, saving model to models/model_weights_best.hdf5\n",
      "55000/55000 [==============================] - 87s 2ms/sample - loss: 0.5193 - accuracy: 0.8093 - val_loss: 0.3628 - val_accuracy: 0.8682\n",
      "Epoch 3/30\n",
      "54976/55000 [============================>.] - ETA: 0s - loss: 0.4458 - accuracy: 0.8364\n",
      "Epoch 00003: val_loss improved from 0.36281 to 0.33886, saving model to models/model_weights_best.hdf5\n",
      "55000/55000 [==============================] - 87s 2ms/sample - loss: 0.4458 - accuracy: 0.8363 - val_loss: 0.3389 - val_accuracy: 0.8754\n",
      "Epoch 4/30\n",
      "54976/55000 [============================>.] - ETA: 0s - loss: 0.4057 - accuracy: 0.8505\n",
      "Epoch 00004: val_loss improved from 0.33886 to 0.30061, saving model to models/model_weights_best.hdf5\n",
      "55000/55000 [==============================] - 91s 2ms/sample - loss: 0.4058 - accuracy: 0.8504 - val_loss: 0.3006 - val_accuracy: 0.8868\n",
      "Epoch 5/30\n",
      "54976/55000 [============================>.] - ETA: 0s - loss: 0.3827 - accuracy: 0.8610\n",
      "Epoch 00005: val_loss improved from 0.30061 to 0.28522, saving model to models/model_weights_best.hdf5\n",
      "55000/55000 [==============================] - 97s 2ms/sample - loss: 0.3826 - accuracy: 0.8611 - val_loss: 0.2852 - val_accuracy: 0.8966\n",
      "Epoch 6/30\n",
      "54976/55000 [============================>.] - ETA: 0s - loss: 0.3666 - accuracy: 0.8658\n",
      "Epoch 00006: val_loss did not improve from 0.28522\n",
      "55000/55000 [==============================] - 94s 2ms/sample - loss: 0.3667 - accuracy: 0.8658 - val_loss: 0.2868 - val_accuracy: 0.8908\n",
      "Epoch 7/30\n",
      "54976/55000 [============================>.] - ETA: 0s - loss: 0.3537 - accuracy: 0.8704\n",
      "Epoch 00007: val_loss improved from 0.28522 to 0.26191, saving model to models/model_weights_best.hdf5\n",
      "55000/55000 [==============================] - 95s 2ms/sample - loss: 0.3537 - accuracy: 0.8704 - val_loss: 0.2619 - val_accuracy: 0.9038\n",
      "Epoch 8/30\n",
      "54976/55000 [============================>.] - ETA: 0s - loss: 0.3435 - accuracy: 0.8734\n",
      "Epoch 00008: val_loss improved from 0.26191 to 0.26023, saving model to models/model_weights_best.hdf5\n",
      "55000/55000 [==============================] - 94s 2ms/sample - loss: 0.3435 - accuracy: 0.8734 - val_loss: 0.2602 - val_accuracy: 0.9006\n",
      "Epoch 9/30\n",
      "54976/55000 [============================>.] - ETA: 0s - loss: 0.3345 - accuracy: 0.8759\n",
      "Epoch 00009: val_loss improved from 0.26023 to 0.25477, saving model to models/model_weights_best.hdf5\n",
      "55000/55000 [==============================] - 93s 2ms/sample - loss: 0.3345 - accuracy: 0.8759 - val_loss: 0.2548 - val_accuracy: 0.8998\n",
      "Epoch 10/30\n",
      "54976/55000 [============================>.] - ETA: 0s - loss: 0.3287 - accuracy: 0.8794\n",
      "Epoch 00010: val_loss did not improve from 0.25477\n",
      "55000/55000 [==============================] - 94s 2ms/sample - loss: 0.3287 - accuracy: 0.8794 - val_loss: 0.2560 - val_accuracy: 0.9018\n",
      "Epoch 11/30\n",
      "54976/55000 [============================>.] - ETA: 0s - loss: 0.3227 - accuracy: 0.8809\n",
      "Epoch 00011: val_loss improved from 0.25477 to 0.24905, saving model to models/model_weights_best.hdf5\n",
      "55000/55000 [==============================] - 97s 2ms/sample - loss: 0.3227 - accuracy: 0.8808 - val_loss: 0.2490 - val_accuracy: 0.9110\n",
      "Epoch 12/30\n",
      "54976/55000 [============================>.] - ETA: 0s - loss: 0.3192 - accuracy: 0.8827\n",
      "Epoch 00012: val_loss improved from 0.24905 to 0.24466, saving model to models/model_weights_best.hdf5\n",
      "55000/55000 [==============================] - 94s 2ms/sample - loss: 0.3192 - accuracy: 0.8827 - val_loss: 0.2447 - val_accuracy: 0.9046\n",
      "Epoch 13/30\n",
      "54976/55000 [============================>.] - ETA: 0s - loss: 0.3139 - accuracy: 0.8853\n",
      "Epoch 00013: val_loss improved from 0.24466 to 0.24201, saving model to models/model_weights_best.hdf5\n",
      "55000/55000 [==============================] - 97s 2ms/sample - loss: 0.3139 - accuracy: 0.8853 - val_loss: 0.2420 - val_accuracy: 0.9088\n",
      "Epoch 14/30\n",
      "54976/55000 [============================>.] - ETA: 0s - loss: 0.3075 - accuracy: 0.8868\n",
      "Epoch 00014: val_loss did not improve from 0.24201\n",
      "55000/55000 [==============================] - 99s 2ms/sample - loss: 0.3074 - accuracy: 0.8868 - val_loss: 0.2503 - val_accuracy: 0.9036\n",
      "Epoch 15/30\n",
      "54976/55000 [============================>.] - ETA: 0s - loss: 0.3100 - accuracy: 0.8864\n",
      "Epoch 00015: val_loss improved from 0.24201 to 0.23411, saving model to models/model_weights_best.hdf5\n",
      "55000/55000 [==============================] - 98s 2ms/sample - loss: 0.3100 - accuracy: 0.8865 - val_loss: 0.2341 - val_accuracy: 0.9140\n",
      "Epoch 16/30\n",
      "54976/55000 [============================>.] - ETA: 0s - loss: 0.3021 - accuracy: 0.8883\n",
      "Epoch 00016: val_loss did not improve from 0.23411\n",
      "55000/55000 [==============================] - 100s 2ms/sample - loss: 0.3021 - accuracy: 0.8883 - val_loss: 0.2802 - val_accuracy: 0.8908\n",
      "Epoch 17/30\n",
      "54976/55000 [============================>.] - ETA: 0s - loss: 0.3032 - accuracy: 0.8886\n",
      "Epoch 00017: val_loss improved from 0.23411 to 0.23034, saving model to models/model_weights_best.hdf5\n",
      "55000/55000 [==============================] - 104s 2ms/sample - loss: 0.3032 - accuracy: 0.8886 - val_loss: 0.2303 - val_accuracy: 0.9196\n",
      "Epoch 18/30\n",
      "54976/55000 [============================>.] - ETA: 0s - loss: 0.2978 - accuracy: 0.8905\n",
      "Epoch 00018: val_loss did not improve from 0.23034\n",
      "55000/55000 [==============================] - 96s 2ms/sample - loss: 0.2977 - accuracy: 0.8905 - val_loss: 0.2333 - val_accuracy: 0.9122\n",
      "Epoch 19/30\n",
      "54976/55000 [============================>.] - ETA: 0s - loss: 0.2960 - accuracy: 0.8913\n",
      "Epoch 00019: val_loss improved from 0.23034 to 0.22722, saving model to models/model_weights_best.hdf5\n",
      "55000/55000 [==============================] - 101s 2ms/sample - loss: 0.2961 - accuracy: 0.8912 - val_loss: 0.2272 - val_accuracy: 0.9140\n",
      "Epoch 20/30\n",
      "54976/55000 [============================>.] - ETA: 0s - loss: 0.2955 - accuracy: 0.8918\n",
      "Epoch 00020: val_loss improved from 0.22722 to 0.22594, saving model to models/model_weights_best.hdf5\n",
      "55000/55000 [==============================] - 108s 2ms/sample - loss: 0.2955 - accuracy: 0.8918 - val_loss: 0.2259 - val_accuracy: 0.9178\n",
      "Epoch 21/30\n",
      "54976/55000 [============================>.] - ETA: 0s - loss: 0.2916 - accuracy: 0.8931\n",
      "Epoch 00021: val_loss improved from 0.22594 to 0.22252, saving model to models/model_weights_best.hdf5\n",
      "55000/55000 [==============================] - 116s 2ms/sample - loss: 0.2916 - accuracy: 0.8931 - val_loss: 0.2225 - val_accuracy: 0.9222\n",
      "Epoch 22/30\n",
      "54976/55000 [============================>.] - ETA: 0s - loss: 0.2905 - accuracy: 0.8935\n",
      "Epoch 00022: val_loss did not improve from 0.22252\n",
      "55000/55000 [==============================] - 102s 2ms/sample - loss: 0.2904 - accuracy: 0.8935 - val_loss: 0.2241 - val_accuracy: 0.9176\n",
      "Epoch 23/30\n",
      "54976/55000 [============================>.] - ETA: 0s - loss: 0.2853 - accuracy: 0.8951\n",
      "Epoch 00023: val_loss improved from 0.22252 to 0.21819, saving model to models/model_weights_best.hdf5\n",
      "55000/55000 [==============================] - 101s 2ms/sample - loss: 0.2853 - accuracy: 0.8951 - val_loss: 0.2182 - val_accuracy: 0.9202\n",
      "Epoch 24/30\n",
      "54976/55000 [============================>.] - ETA: 0s - loss: 0.2838 - accuracy: 0.8954\n",
      "Epoch 00024: val_loss improved from 0.21819 to 0.21694, saving model to models/model_weights_best.hdf5\n",
      "55000/55000 [==============================] - 99s 2ms/sample - loss: 0.2838 - accuracy: 0.8954 - val_loss: 0.2169 - val_accuracy: 0.9198\n",
      "Epoch 25/30\n",
      "54976/55000 [============================>.] - ETA: 0s - loss: 0.2861 - accuracy: 0.8959\n",
      "Epoch 00025: val_loss did not improve from 0.21694\n",
      "55000/55000 [==============================] - 99s 2ms/sample - loss: 0.2861 - accuracy: 0.8959 - val_loss: 0.2264 - val_accuracy: 0.9186\n",
      "Epoch 26/30\n",
      "54976/55000 [============================>.] - ETA: 0s - loss: 0.2811 - accuracy: 0.8972\n",
      "Epoch 00026: val_loss did not improve from 0.21694\n",
      "55000/55000 [==============================] - 110s 2ms/sample - loss: 0.2811 - accuracy: 0.8972 - val_loss: 0.2449 - val_accuracy: 0.9076\n",
      "Epoch 27/30\n",
      "54976/55000 [============================>.] - ETA: 0s - loss: 0.2857 - accuracy: 0.8963\n",
      "Epoch 00027: val_loss did not improve from 0.21694\n",
      "55000/55000 [==============================] - 98s 2ms/sample - loss: 0.2857 - accuracy: 0.8963 - val_loss: 0.2231 - val_accuracy: 0.9204\n",
      "Epoch 28/30\n",
      "54976/55000 [============================>.] - ETA: 0s - loss: 0.2788 - accuracy: 0.8993\n",
      "Epoch 00028: val_loss did not improve from 0.21694\n",
      "55000/55000 [==============================] - 96s 2ms/sample - loss: 0.2789 - accuracy: 0.8992 - val_loss: 0.2209 - val_accuracy: 0.9214\n",
      "Epoch 29/30\n",
      "54976/55000 [============================>.] - ETA: 0s - loss: 0.2796 - accuracy: 0.8954\n",
      "Epoch 00029: val_loss improved from 0.21694 to 0.21563, saving model to models/model_weights_best.hdf5\n",
      "55000/55000 [==============================] - 95s 2ms/sample - loss: 0.2796 - accuracy: 0.8954 - val_loss: 0.2156 - val_accuracy: 0.9204\n",
      "Epoch 30/30\n",
      "54976/55000 [============================>.] - ETA: 0s - loss: 0.2778 - accuracy: 0.8987\n",
      "Epoch 00030: val_loss did not improve from 0.21563\n",
      "55000/55000 [==============================] - 96s 2ms/sample - loss: 0.2779 - accuracy: 0.8987 - val_loss: 0.2159 - val_accuracy: 0.9218\n"
     ]
    },
    {
     "data": {
      "text/plain": [
       "<tensorflow.python.keras.callbacks.History at 0x7f2b9c126090>"
      ]
     },
     "execution_count": 8,
     "metadata": {},
     "output_type": "execute_result"
    }
   ],
   "source": [
    "from tensorflow.keras.callbacks import ModelCheckpoint\n",
    "\n",
    "checkpointer = ModelCheckpoint(filepath='models/model_weights_best.hdf5', verbose = 1, save_best_only=True)\n",
    "model.fit(x_train, y_train, batch_size=64, epochs=30, validation_data=(x_valid, y_valid), callbacks=[checkpointer])"
   ]
  },
  {
   "cell_type": "markdown",
   "metadata": {},
   "source": [
    "### Load Model and Test Accuracy"
   ]
  },
  {
   "cell_type": "code",
   "execution_count": 10,
   "metadata": {},
   "outputs": [
    {
     "name": "stdout",
     "output_type": "stream",
     "text": [
      "\n",
      "Test accuracy: 91.5%\n"
     ]
    }
   ],
   "source": [
    "# Load the weights with the best validation accuracy\n",
    "model.load_weights('models/model_weights_best.hdf5')\n",
    "\n",
    "# Evaluate the model on test set\n",
    "score = model.evaluate(x_test, y_test, verbose=0)\n",
    "\n",
    "# Print test accuracy\n",
    "print(\"\\nTest accuracy: %.1f%%\" % (100.0 * score[1]))"
   ]
  },
  {
   "cell_type": "markdown",
   "metadata": {},
   "source": [
    "## Visualize the predictions"
   ]
  },
  {
   "cell_type": "markdown",
   "metadata": {},
   "source": [
    "Now let's visualize the prediction using the model you just trained."
   ]
  },
  {
   "cell_type": "code",
   "execution_count": 13,
   "metadata": {},
   "outputs": [
    {
     "data": {
      "image/png": "[encoded data removed]",
      "text/plain": [
       "<Figure size 1440x576 with 15 Axes>"
      ]
     },
     "metadata": {},
     "output_type": "display_data"
    }
   ],
   "source": [
    "y_hat = model.predict(x_test)\n",
    "\n",
    "# Plot a random sample of 10 test images, their predicted labels and ground truth\n",
    "figure = plt.figure(figsize=(20, 8))\n",
    "\n",
    "for i, index in enumerate(np.random.choice(x_test.shape[0], size=15, replace=False)):\n",
    "    ax = figure.add_subplot(3, 5, i + 1, xticks=[], yticks=[])\n",
    "    \n",
    "    # Display each image\n",
    "    ax.imshow(np.squeeze(x_test[index]))\n",
    "    predict_index = np.argmax(y_hat[index])\n",
    "    true_index = np.argmax(y_test[index])\n",
    "    \n",
    "    # Set the title for each image\n",
    "    ax.set_title(\"{} ({})\".format(fashion_mnist_labels[predict_index], \n",
    "                                  fashion_mnist_labels[true_index]),\n",
    "                                  color=(\"green\" if predict_index == true_index else \"red\"))"
   ]
  },
  {
   "cell_type": "markdown",
   "metadata": {},
   "source": [
    "## Congratulations!"
   ]
  },
  {
   "cell_type": "markdown",
   "metadata": {},
   "source": [
    "We have successfully trained a CNN to classify fashion-MNIST with near 90% accuracy."
   ]
  }
 ],
 "metadata": {
  "kernelspec": {
   "display_name": "Python 3",
   "language": "python",
   "name": "python3"
  },
  "language_info": {
   "codemirror_mode": {
    "name": "ipython",
    "version": 3
   },
   "file_extension": ".py",
   "mimetype": "text/x-python",
   "name": "python",
   "nbconvert_exporter": "python",
   "pygments_lexer": "ipython3",
   "version": "3.7.7"
  }
 },
 "nbformat": 4,
 "nbformat_minor": 4
}
